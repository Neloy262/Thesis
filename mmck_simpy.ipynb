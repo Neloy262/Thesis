{
  "nbformat": 4,
  "nbformat_minor": 0,
  "metadata": {
    "kernelspec": {
      "display_name": "Python 3",
      "language": "python",
      "name": "python3"
    },
    "language_info": {
      "codemirror_mode": {
        "name": "ipython",
        "version": 3
      },
      "file_extension": ".py",
      "mimetype": "text/x-python",
      "name": "python",
      "nbconvert_exporter": "python",
      "pygments_lexer": "ipython3",
      "version": "3.7.6"
    },
    "colab": {
      "name": "multiuser_singlefog_environment.ipynb",
      "provenance": []
    }
  },
  "cells": [
    {
      "cell_type": "code",
      "metadata": {
        "id": "dTxJ5Vk5-x-O",
        "colab_type": "code",
        "colab": {
          "base_uri": "https://localhost:8080/",
          "height": 84
        },
        "outputId": "ba730158-6988-4377-da86-7c225947605c"
      },
      "source": [
        "pip install simpy"
      ],
      "execution_count": 2,
      "outputs": [
        {
          "output_type": "stream",
          "text": [
            "Collecting simpy\n",
            "  Downloading https://files.pythonhosted.org/packages/20/f9/874b0bab83406827db93292a5bbe5acb5c18e3cea665b2f6e053292cb687/simpy-4.0.1-py2.py3-none-any.whl\n",
            "Installing collected packages: simpy\n",
            "Successfully installed simpy-4.0.1\n"
          ],
          "name": "stdout"
        }
      ]
    },
    {
      "cell_type": "code",
      "metadata": {
        "id": "kozW5n3W-mlP",
        "colab_type": "code",
        "colab": {}
      },
      "source": [
        "import numpy as np   #importing libraries\n",
        "import simpy \n",
        "import queue\n",
        "import random \n",
        "import matplotlib \n",
        "from matplotlib import pyplot as plt"
      ],
      "execution_count": 82,
      "outputs": []
    },
    {
      "cell_type": "code",
      "metadata": {
        "id": "lnabfa7C-mlU",
        "colab_type": "code",
        "colab": {}
      },
      "source": [
        "global SZ,CP,RM\n",
        "SZ=[]\n",
        "CP=[]\n",
        "RM=[]\n",
        "Lambda = 1\n",
        "mu = 1.25\n",
        "t = 0   #system clock\n",
        "t_lambda = 0 #poisson random variable used to generate next service time\n",
        "t_mu = 0  #poisson random variable used to generate next departure time\n",
        "u=rd.random()\n",
        "wait=0\n",
        "R=1000\n",
        "transmission_time=0\n",
        "waitlist=[]\n",
        "servicetime=[]\n",
        "l=\"0\"\n",
        "Serverqueue=[]\n",
        "class Packet(object):\n",
        "    def __init__(self, time, id, mobileID, seeed):\n",
        "        \n",
        "        self.time=time                                                \n",
        "        self.id=id\n",
        "        self.mobileID=mobileID   \n",
        "        #random.seed(seeed)\n",
        "        self.siz=random.randint(200,400) #seed 1 op 2, seed 2 op \n",
        "        SZ.append(round(self.siz,2))\n",
        "        #print(seeed)\n",
        "        #random.seed(seeed)\n",
        "        self.cpu=random.randint(20,90) #seed 1 op 2, seed 2 op \n",
        "        CP.append(round(self.cpu,2))\n",
        "        #random.seed(seeed)\n",
        "        self.ram=random.randint(1, 32) #seed 1 op 3, seed 2 op 1, seed 3 op 4\n",
        "        RM.append(round(self.ram,2))\n",
        "\n",
        "global Tsla, Nsla, Gsla, Cost_sla, Cg,Ct, Cn          #Global variables for reward function\n",
        "global count\n",
        "global X #x no of requests\n",
        "global TP #y throughput\n",
        "global Z #z response time\n",
        "global QN #w queue size \n",
        "TP=[]\n",
        "Z=[]\n",
        "QN=[]\n",
        "X=[] \n",
        "count=int(0)\n",
        "L=queue.Queue(maxsize=6)\n",
        "\n",
        "\n",
        "\n",
        "class mobile(object): #mobile class with an ID              \n",
        "    def __init__(self, ID):\n",
        "        self.ID=ID\n",
        "        self.pot=int(1)\n",
        "        self.block=int(0)\n",
        "        global L\n",
        "        \n",
        "    #generates packets and sends via out_pipe\n",
        "    def packet_generator(self, numPackets, env, out_pipe, j): \n",
        "        global queue_size\n",
        "        queue_size=0\n",
        "        task=j\n",
        "        for i in range(numPackets):\n",
        "            yield env.timeout(random.expovariate(1/5))\n",
        "            #print(\"sending task {} of mobile {} at time {}\".format(task, self.ID, env.now))\n",
        "            p=Packet(env.now, j, self.ID, self.pot)\n",
        "            self.pot+=1\n",
        "            if(self.pot==4):\n",
        "                self.pot=1\n",
        "            yield out_pipe.put(p)\n",
        "            item = yield out_pipe.get()\n",
        "            #print(\"hellowwwww\", item)\n",
        "            #print(\"jk\")\n",
        "            #print(\"got\",item.time)\n",
        "\n"
      ],
      "execution_count": 86,
      "outputs": []
    },
    {
      "cell_type": "code",
      "metadata": {
        "id": "e0wl7WQN-mlX",
        "colab_type": "code",
        "colab": {}
      },
      "source": [
        "class FogClass:\n",
        "  def __init__(self):\n",
        "    self.lost=0\n",
        "  def FOG(self,env, server, service_time, in_pipe):\n",
        "      \n",
        "      msg = yield in_pipe.get()\n",
        "      transmission_time = (msg.siz/R)\n",
        "      #print(\"transmits task {} to need time {}\".format(msg.id,transmission_time))\n",
        "      yield env.timeout(transmission_time)\n",
        "      a=env.now\n",
        "      #print(\"arrived task {} at time {}\".format(msg.id,a))\n",
        "      if len(Serverqueue)<10:\n",
        "          Serverqueue.append(msg)\n",
        "      else:\n",
        "        self.lost=self.lost+1 \n",
        "        print(\"Packet lost\")\n",
        "        return \n",
        "      with server.request() as req:\n",
        "          yield req\n",
        "          s=env.now\n",
        "          wait=s-a\n",
        "          #print(\"starting service task {} at time {}\".format(msg.id,s))\n",
        "          #print(\"task {} waiting time is {}\".format(msg.id,wait))\n",
        "          waitlist.append(wait)\n",
        "          yield env.timeout(service_time)\n",
        "          #print(\"finish service task {} at time {}\".format(msg.id,env.now))\n",
        "          #if len(Serverqueue)>0:\n",
        "          Serverqueue.pop(0)\n",
        "          #return l"
      ],
      "execution_count": 87,
      "outputs": []
    },
    {
      "cell_type": "code",
      "metadata": {
        "id": "YDCkezkb-mla",
        "colab_type": "code",
        "colab": {
          "base_uri": "https://localhost:8080/",
          "height": 773
        },
        "outputId": "62c8e67e-a4d8-4c82-c1db-e248737f862e"
      },
      "source": [
        "env1 = simpy.Environment()    \n",
        "server = simpy.Resource(env1, capacity=3)\n",
        "\n",
        "pipe1 = simpy.Store(env1)\n",
        "pipe2 = simpy.Store(env1)\n",
        "pipe3 = simpy.Store(env1)\n",
        "f1=FogClass()\n",
        "f2=FogClass()\n",
        "ms1=mobile(1)\n",
        "ms2=mobile(2)\n",
        "ms3=mobile(3)\n",
        "for i in range(50):\n",
        "    u=rd.random()\n",
        "    t_mu=-np.log(u)/mu  \n",
        "    env1.process(ms1.packet_generator(1, env1, pipe1, i))\n",
        "    env1.process(f1.FOG(env1, server, t_mu, pipe1))\n",
        "    \n",
        "    #servicetime.append(t_mu)\n",
        "    \n",
        "    env1.process(ms2.packet_generator(1, env1, pipe2, i))\n",
        "    env1.process(f2.FOG(env1, server, t_mu, pipe2))\n",
        "env1.run()\n",
        "print(f1.lost,f2.lost)"
      ],
      "execution_count": 88,
      "outputs": [
        {
          "output_type": "stream",
          "text": [
            "Packet lost\n",
            "Packet lost\n",
            "Packet lost\n",
            "Packet lost\n",
            "Packet lost\n",
            "Packet lost\n",
            "Packet lost\n",
            "Packet lost\n",
            "Packet lost\n",
            "Packet lost\n",
            "Packet lost\n",
            "Packet lost\n",
            "Packet lost\n",
            "Packet lost\n",
            "Packet lost\n",
            "Packet lost\n",
            "Packet lost\n",
            "Packet lost\n",
            "Packet lost\n",
            "Packet lost\n",
            "Packet lost\n",
            "Packet lost\n",
            "Packet lost\n",
            "Packet lost\n",
            "Packet lost\n",
            "Packet lost\n",
            "Packet lost\n",
            "Packet lost\n",
            "Packet lost\n",
            "Packet lost\n",
            "Packet lost\n",
            "Packet lost\n",
            "Packet lost\n",
            "Packet lost\n",
            "Packet lost\n",
            "Packet lost\n",
            "Packet lost\n",
            "Packet lost\n",
            "Packet lost\n",
            "Packet lost\n",
            "Packet lost\n",
            "Packet lost\n",
            "Packet lost\n",
            "Packet lost\n",
            "24 20\n"
          ],
          "name": "stdout"
        }
      ]
    },
    {
      "cell_type": "code",
      "metadata": {
        "id": "eQoK10ba-mle",
        "colab_type": "code",
        "colab": {}
      },
      "source": [
        ""
      ],
      "execution_count": null,
      "outputs": []
    },
    {
      "cell_type": "code",
      "metadata": {
        "id": "auQOSiJe-mlh",
        "colab_type": "code",
        "colab": {}
      },
      "source": [
        ""
      ],
      "execution_count": null,
      "outputs": []
    }
  ]
}