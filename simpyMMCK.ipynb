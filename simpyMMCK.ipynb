{
 "cells": [
  {
   "cell_type": "code",
   "execution_count": 6,
   "metadata": {},
   "outputs": [],
   "source": [
    "import numpy as np   #importing libraries\n",
    "import simpy \n",
    "from matplotlib import pyplot as plt\n",
    "import matplotlib as mp\n",
    "import random as rd\n",
    "import math\n",
    "import queue\n"
   ]
  },
  {
   "cell_type": "code",
   "execution_count": 10,
   "metadata": {},
   "outputs": [],
   "source": [
    "N = 100000 #Number of packets to be serviced\n",
    "K=10 #Queue length\n",
    "lost=0 #Lost packets\n",
    "Lambda = 1\n",
    "mu = 1.25\n",
    "Sum=0\n",
    "flag=0\n",
    "c=3 #number of servers\n",
    "infty = 999*N*mu \n",
    "n = 0\n",
    "n_a = 0 #total number of arrivals\n",
    "n_d = 0 #total number of departure\n",
    "t = 0   #system clock\n",
    "t_d1 = infty #next service time\n",
    "t_d2 = infty\n",
    "t_d3 = infty\n",
    "t_lambda = 0 #poisson random variable used to generate next service time\n",
    "t_mu = 0  #poisson random variable used to generate next departure time\n",
    "u=rd.random()\n",
    "t_a=-np.log(u)/Lambda #generating random variable\n",
    "wait=0\n",
    "waitlist=[]\n",
    "servicetime=[]\n",
    "global q\n",
    "q= queue.Queue()"
   ]
  },
  {
   "cell_type": "code",
   "execution_count": 11,
   "metadata": {},
   "outputs": [],
   "source": [
    "def FOG(env, name, server, arriving_time, service_time):\n",
    "     \n",
    "     yield env.timeout(arriving_time)\n",
    "     \n",
    "     a=env.now\n",
    "     #print('%s arriving at %s' % (name, a))\n",
    "     with server.request() as req:\n",
    "         yield req\n",
    "         s=env.now\n",
    "         #print('%s starting to service at %s' % (name, s))\n",
    "         wait=s-a\n",
    "         print('%s wait time is %s' % (name, wait))\n",
    "         waitlist.append(wait)\n",
    "         if(wait>0.0):\n",
    "            #print(env.active_process)\n",
    "            q.put(5)\n",
    "            print(\"q siz\",q.qsize())\n",
    "         yield env.timeout(service_time)\n",
    "         #print('%s finish service at %s' % (name, env.now))"
   ]
  },
  {
   "cell_type": "code",
   "execution_count": 12,
   "metadata": {},
   "outputs": [
    {
     "name": "stdout",
     "output_type": "stream",
     "text": [
      "Packet 5 wait time is 0.0\n",
      "Packet 12 wait time is 0.0\n",
      "Packet 14 wait time is 0.0\n",
      "Packet 0 wait time is 0.6141212770343509\n",
      "q siz 1\n",
      "Packet 2 wait time is 0.5938986710171413\n",
      "q siz 2\n",
      "Packet 3 wait time is 0.6576096259468966\n",
      "q siz 3\n",
      "Packet 10 wait time is 0.8758612843314062\n",
      "q siz 4\n",
      "Packet 13 wait time is 1.0079540602312835\n",
      "q siz 5\n",
      "Packet 11 wait time is 1.15631615063411\n",
      "q siz 6\n",
      "Packet 6 wait time is 1.3156762248457712\n",
      "q siz 7\n",
      "Packet 7 wait time is 1.3143422836096574\n",
      "q siz 8\n",
      "Packet 9 wait time is 1.0411628080222803\n",
      "q siz 9\n",
      "Packet 1 wait time is 0.3422209289307281\n",
      "q siz 10\n",
      "Packet 4 wait time is 0.11006091420180919\n",
      "q siz 11\n",
      "Packet 8 wait time is 0.13443316497301216\n",
      "q siz 12\n",
      "Average time in service: 1.2413555443190312\n",
      "Average queueing time: 0.9163657393778448\n"
     ]
    }
   ],
   "source": [
    "env = simpy.Environment()\n",
    "server = simpy.Resource(env, capacity=3)\n",
    "\n",
    "u=rd.random()\n",
    "t_lambda=-np.log(u)/Lambda\n",
    "t_a=t+t_lambda\n",
    "    \n",
    "for i in range(15):\n",
    "    u=rd.random()\n",
    "    t_lambda=-np.log(u)/Lambda\n",
    "    t_a=t+t_lambda\n",
    "    t=t_a\n",
    "    \n",
    "    u=rd.random()\n",
    "    t_mu=-np.log(u)/mu\n",
    "    \n",
    "    #if(q.qsize()<=K):  \n",
    "    env.process(FOG(env, 'Packet %d' % i, server, t_lambda,t_mu))\n",
    "        \n",
    "    #else:\n",
    "     #   lost=lost+1\n",
    "    \n",
    "    servicetime.append(t_mu)\n",
    "    \n",
    "env.run()\n",
    "#print(q.qsize())\n",
    "#print(\"lost is\",lost)\n",
    "\n",
    "avgservicetime=sum(servicetime)/10\n",
    "avgwaittime=sum(waitlist)/10\n",
    "\n",
    "print(\"Average time in service:\", avgservicetime)\n",
    "print(\"Average queueing time:\", avgwaittime)"
   ]
  },
  {
   "cell_type": "code",
   "execution_count": null,
   "metadata": {},
   "outputs": [],
   "source": []
  },
  {
   "cell_type": "code",
   "execution_count": null,
   "metadata": {},
   "outputs": [],
   "source": []
  }
 ],
 "metadata": {
  "kernelspec": {
   "display_name": "Python 3",
   "language": "python",
   "name": "python3"
  },
  "language_info": {
   "codemirror_mode": {
    "name": "ipython",
    "version": 3
   },
   "file_extension": ".py",
   "mimetype": "text/x-python",
   "name": "python",
   "nbconvert_exporter": "python",
   "pygments_lexer": "ipython3",
   "version": "3.7.6"
  }
 },
 "nbformat": 4,
 "nbformat_minor": 4
}
