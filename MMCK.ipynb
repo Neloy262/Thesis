{
  "nbformat": 4,
  "nbformat_minor": 0,
  "metadata": {
    "colab": {
      "name": "MMCK.ipynb",
      "provenance": [],
      "collapsed_sections": [],
      "authorship_tag": "ABX9TyMBm5cZmNnSYJk+SPJVCdz0",
      "include_colab_link": true
    },
    "kernelspec": {
      "name": "python3",
      "display_name": "Python 3"
    }
  },
  "cells": [
    {
      "cell_type": "markdown",
      "metadata": {
        "id": "view-in-github",
        "colab_type": "text"
      },
      "source": [
        "<a href=\"https://colab.research.google.com/github/Neloy262/Thesis/blob/master/MMCK.ipynb\" target=\"_parent\"><img src=\"https://colab.research.google.com/assets/colab-badge.svg\" alt=\"Open In Colab\"/></a>"
      ]
    },
    {
      "cell_type": "code",
      "metadata": {
        "id": "mWRosV5PMhZP",
        "colab_type": "code",
        "colab": {}
      },
      "source": [
        "import matplotlib as mp\n",
        "import numpy as np\n",
        "import random as rd"
      ],
      "execution_count": 0,
      "outputs": []
    },
    {
      "cell_type": "code",
      "metadata": {
        "id": "0L_1w5UvM2g4",
        "colab_type": "code",
        "colab": {}
      },
      "source": [
        "N = 1000000 #Number of packets to be serviced\n",
        "K=10 #Queue length\n",
        "lost=0 #Lost packets\n",
        "Lambda = 1\n",
        "mu = 1.25\n",
        "flag=0\n",
        "c=3 #number of servers\n",
        "infty = 999*N*mu \n",
        "n = 0\n",
        "n_a = 0 #total number of arrivals\n",
        "n_d = 0 #total number of departure\n",
        "t = 0   #system clock\n",
        "t_d1 = infty #next service time\n",
        "t_d2 = infty\n",
        "t_d3 = infty\n",
        "t_lambda = 0 #poisson random variable used to generate next service time\n",
        "t_mu = 0  #poisson random variable used to generate next departure time\n",
        "u=rd.random()\n",
        "t_a=-np.log(u)/Lambda #generating random variable\n",
        "queue=[]\n",
        "CustomerInfo=[]\n",
        "waitList=[]\n"
      ],
      "execution_count": 0,
      "outputs": []
    },
    {
      "cell_type": "code",
      "metadata": {
        "id": "tPDJNvLFM8q5",
        "colab_type": "code",
        "colab": {}
      },
      "source": [
        "class Customer:\n",
        "    def __init__(self, number,arrival):\n",
        "            self.number=number\n",
        "            self.arrival=arrival\n",
        "            self.departure=None\n",
        "            self.servicetime=None\n",
        "            self.wait=None\n",
        "            self.servicestart=None\n",
        "    def SetDeparture(self,x):\n",
        "        self.departure=x\n",
        "        \n",
        "    def SetServicetime(self,x):\n",
        "\n",
        "        self.servicetime=x\n",
        "            \n",
        "    def WaitTime(self):\n",
        "        self.wait=self.servicestart-self.arrival\n",
        "\n",
        "    def ServiceStart(self,x):\n",
        "      self.servicestart=x\n",
        " \n",
        "    def ShowStat(self):\n",
        "        print(\"Arrival:\",self.arrival)\n",
        "        print(\"\")\n",
        "        print(\"Service Start:\",self.servicestart)\n",
        "        print(\"\")\n",
        "        print(\"Departure:\",self.departure)\n",
        "        print(\"\")\n",
        "        print(\"Service Time:\",self.servicetime)\n",
        "        print(\"\")\n",
        "        self.WaitTime()\n",
        "        print(\"System Time:\",self.departure-self.arrival)\n",
        "        print(\"\")\n",
        "        print(\"Wait time:\",self.wait)\n",
        "        print(\"\")\n",
        "        "
      ],
      "execution_count": 0,
      "outputs": []
    },
    {
      "cell_type": "code",
      "metadata": {
        "id": "GQD1ahr5NBJ5",
        "colab_type": "code",
        "colab": {}
      },
      "source": [
        "while n_d<N:\n",
        "    if t_a<t_d1 and t_a<t_d2 and t_a<t_d3:\n",
        "        if n==K:\n",
        "          t=t_a\n",
        "          u=rd.random()\n",
        "          t_lambda=-np.log(u)/Lambda\n",
        "          t_a=t+t_lambda\n",
        "          lost+=1\n",
        "          continue \n",
        "            \n",
        "        t=t_a\n",
        "        n=n+1\n",
        "        n_a=n_a+1\n",
        "        u=rd.random()\n",
        "        t_lambda=-np.log(u)/Lambda\n",
        "        t_a=t+t_lambda\n",
        "        if n<=c: # If number of customer less than or equal to number of servers\n",
        "            u=rd.random()\n",
        "            t_mu=-np.log(u)/mu\n",
        "            \n",
        "            if t_d1<=t_d2 and t_d1<=t_d3: #infty means is server free\n",
        "                t_d1=t+t_mu #t_mu \n",
        "                C=Customer(n_a,t) # t is arrival time of customer \n",
        "                C.SetDeparture(t_d1) # t_d1 departure time of customer\n",
        "                x=t_d1-t\n",
        "                C.SetServicetime(x)\n",
        "                C.ServiceStart(t)\n",
        "            elif t_d2<=t_d1 and t_d2<=t_d3 :\n",
        "                t_d2=t+t_mu\n",
        "                C=Customer(n_a,t)\n",
        "                C.SetDeparture(t_d2)\n",
        "                x=t_d2-t\n",
        "                C.SetServicetime(x)\n",
        "                C.ServiceStart(t)\n",
        "            elif t_d3<=t_d2 and t_d3<=t_d1:\n",
        "                t_d3=t+t_mu\n",
        "                C=Customer(n_a,t)\n",
        "                C.SetDeparture(t_d3)\n",
        "                x=t_d3-t\n",
        "                C.SetServicetime(x)\n",
        "                C.ServiceStart(t)\n",
        "            \n",
        "        else:\n",
        "          C=Customer(n_a,t)    \n",
        "        if n_a<=N:\n",
        "            queue.append(C)\n",
        "\n",
        "            \n",
        "    else:\n",
        "        t=min(t_d1,t_d2,t_d3)\n",
        "        List=[t_d1,t_d2,t_d3]\n",
        "        n=n-1\n",
        "        minpos=List.index(min(List))\n",
        "        if len(queue)>0:\n",
        "          customer=queue.pop(0)\n",
        "          customer.WaitTime()\n",
        "          CustomerInfo.append(customer)\n",
        "          n_d=n_d+1\n",
        "        if n==0:\n",
        "            t_d1=infty\n",
        "            t_d2=infty\n",
        "            t_d3=infty\n",
        "        else:\n",
        "            u=rd.random()\n",
        "            t_mu=-np.log(u)/mu\n",
        "\n",
        "            for i in queue:\n",
        "                if i.departure==None:\n",
        "                    if minpos==0:\n",
        "                        t_d1=t+t_mu\n",
        "                        i.SetDeparture(t_d1)\n",
        "                        i.SetServicetime(t_d1-t)\n",
        "                        i.ServiceStart(t)\n",
        "                        flag=1\n",
        "                        break\n",
        "                    elif minpos==1:\n",
        "                        t_d2=t+t_mu\n",
        "                        i.SetDeparture(t_d2)\n",
        "                        i.SetServicetime(t_d2-t)\n",
        "                        i.ServiceStart(t)\n",
        "                        flag=1\n",
        "\n",
        "                        break\n",
        "                    elif minpos==2:\n",
        "                        t_d3=t+t_mu\n",
        "                        i.SetDeparture(t_d3)\n",
        "                        i.SetServicetime(t_d3-t)\n",
        "                        i.ServiceStart(t)\n",
        "                        flag=1\n",
        "\n",
        "                        break \n",
        "            if flag==1:\n",
        "                flag=0\n",
        "            else:\n",
        "              u=rd.random()\n",
        "              t_lambda=-np.log(u)/Lambda\n",
        "              t_a=t+t_lambda  \n",
        "            \n",
        "                        \n",
        "            \n"
      ],
      "execution_count": 0,
      "outputs": []
    },
    {
      "cell_type": "code",
      "metadata": {
        "id": "ah7HL8YmNEUd",
        "colab_type": "code",
        "outputId": "fda886e5-f985-4c5a-a20b-94c0b9718120",
        "colab": {
          "base_uri": "https://localhost:8080/",
          "height": 35
        }
      },
      "source": [
        "# Sum=0\n",
        "for i in CustomerInfo:\n",
        "    # i.ShowStat()\n",
        "    waitList.append(i.servicestart-i.arrival)\n",
        "    # Sum=Sum+i.servicetime\n",
        "print(\"Average queueing time:\",sum(waitList)/N)\n"
      ],
      "execution_count": 0,
      "outputs": [
        {
          "output_type": "stream",
          "text": [
            "Average queueing time: 0.6918340513035318\n"
          ],
          "name": "stdout"
        }
      ]
    },
    {
      "cell_type": "code",
      "metadata": {
        "id": "i7gRBuEqNID0",
        "colab_type": "code",
        "colab": {}
      },
      "source": [
        ""
      ],
      "execution_count": 0,
      "outputs": []
    }
  ]
}