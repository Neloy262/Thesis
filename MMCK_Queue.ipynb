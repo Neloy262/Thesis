{
 "cells": [
  {
   "cell_type": "code",
   "execution_count": 48,
   "metadata": {},
   "outputs": [],
   "source": [
    "import matplotlib as mp\n",
    "import numpy as np\n",
    "import random as rd\n",
    "\n",
    "import queue"
   ]
  },
  {
   "cell_type": "markdown",
   "metadata": {},
   "source": [
    "# Variable Initialization"
   ]
  },
  {
   "cell_type": "code",
   "execution_count": 49,
   "metadata": {},
   "outputs": [],
   "source": [
    "N = 1000 #Number of packets to be serviced\n",
    "K=10 #Queue length\n",
    "lost=0 #Lost packets\n",
    "Lambda = 1.0  \n",
    "mu = 1.25\n",
    "flag=0\n",
    "flag1=0\n",
    "flag2=0\n",
    "flag3=0\n",
    "c=3 #number of servers\n",
    "infty = 999*N*mu \n",
    "n = 0\n",
    "n_a = 0 #total number of arrivals\n",
    "n_d = 0 #total number of departure\n",
    "t = 0   #system clock\n",
    "t_d1 = infty #next service time\n",
    "t_d2 = infty\n",
    "t_d3 = infty\n",
    "t_lambda = 0 #poisson random variable used to generate next service time\n",
    "t_mu = 0  #poisson random variable used to generate next departure time\n",
    "t_mu2=0\n",
    "t_mu3=0\n",
    "tot_mu = 0 #total of departure times\n",
    "TA=[] #list to store packet arrival time\n",
    "response = 0 #Total time spent in system by all packet\n",
    "wait = 0 #Average wait time\n",
    "u=rd.random()\n",
    "t_a=-np.log(u)/Lambda #generating random variable\n",
    "tot_lambda = t_a #total of arrival times\n",
    "server1Count=0\n",
    "server2Count=0\n",
    "server3Count=0"
   ]
  },
  {
   "cell_type": "code",
   "execution_count": 50,
   "metadata": {},
   "outputs": [],
   "source": [
    "while n_d<N:\n",
    "    if t_a<t_d1 and t_a<t_d2 and t_a<t_d3:\n",
    "        if n==K:\n",
    "            lost+=1\n",
    "            u=rd.random()\n",
    "            t_lambda=-np.log(u)/Lambda\n",
    "            t_a=t+t_lambda\n",
    "            tot_lambda =tot_lambda+t_lambda\n",
    "            continue\n",
    "        t=t_a\n",
    "        n=n+1\n",
    "        n_a=n_a+1\n",
    "        if n_a<=N:\n",
    "            TA.append(t)\n",
    "           # print(\"A\",t)\n",
    "        u=rd.random()\n",
    "        t_lambda=-np.log(u)/Lambda\n",
    "        t_a=t+t_lambda\n",
    "        tot_lambda =tot_lambda+t_lambda\n",
    "        if n<=c:\n",
    "            u=rd.random()\n",
    "            v=rd.random()\n",
    "            w=rd.random()\n",
    "            t_mu=-np.log(u)/mu\n",
    "            t_mu2=-np.log(v)/mu\n",
    "            t_mu3=-np.log(w)/mu\n",
    "            if n==1:\n",
    "                t_d1 = t+t_mu\n",
    "                tot_mu =tot_mu+t_mu\n",
    "               \n",
    "            elif n==2:\n",
    "                t_d2 = t+t_mu2\n",
    "                tot_mu =tot_mu+t_mu2\n",
    "               \n",
    "            elif n==3:\n",
    "                t_d3=t+t_mu3\n",
    "                tot_mu=tot_mu+t_mu3\n",
    "\n",
    "            \n",
    "    else:\n",
    "        t = min(t_d1,t_d2,t_d3)\n",
    "        minnpos=np.argmin([t_d1,t_d2,t_d3])\n",
    "        n=n-1\n",
    "        n_d=n_d+1\n",
    "        if minnpos==0:\n",
    "            server1Count+=1\n",
    "        elif minnpos==1:\n",
    "            server2Count+=1\n",
    "        else:\n",
    "            server3Count+=1\n",
    "        response=response+t-TA[n_d-1] #t-TA[n_d] is time spent in the system by packet TA[n_d].Response hold the total of all packets\n",
    "        if n==0:\n",
    "            t_d1=infty\n",
    "            t_d2=infty\n",
    "            t_d3=infty\n",
    "        else:\n",
    "            u=rd.random()\n",
    "            t_mu=-np.log(u)/mu\n",
    "            if minnpos==0:\n",
    "                t_d1=t+t_mu\n",
    "                tot_mu=tot_mu+t_mu\n",
    "               \n",
    "            elif minnpos==1:\n",
    "                t_d2=t+t_mu\n",
    "                tot_mu=tot_mu+t_mu\n",
    "            else:\n",
    "                t_d3=t+t_mu\n",
    "                tot_mu=tot_mu+t_mu"
   ]
  },
  {
   "cell_type": "code",
   "execution_count": 51,
   "metadata": {},
   "outputs": [
    {
     "name": "stdout",
     "output_type": "stream",
     "text": [
      "Time spent in system: 0.6649748079201713\n",
      "576 295 129\n"
     ]
    }
   ],
   "source": [
    "avgResponse=response/N\n",
    "print(\"Time spent in system:\",avgResponse)\n",
    "print(server1Count,server2Count,server3Count)"
   ]
  },
  {
   "cell_type": "code",
   "execution_count": 60,
   "metadata": {},
   "outputs": [
    {
     "name": "stdout",
     "output_type": "stream",
     "text": [
      "1\n"
     ]
    }
   ],
   "source": []
  },
  {
   "cell_type": "code",
   "execution_count": null,
   "metadata": {},
   "outputs": [],
   "source": []
  }
 ],
 "metadata": {
  "kernelspec": {
   "display_name": "Python 3",
   "language": "python",
   "name": "python3"
  },
  "language_info": {
   "codemirror_mode": {
    "name": "ipython",
    "version": 3
   },
   "file_extension": ".py",
   "mimetype": "text/x-python",
   "name": "python",
   "nbconvert_exporter": "python",
   "pygments_lexer": "ipython3",
   "version": "3.7.6"
  }
 },
 "nbformat": 4,
 "nbformat_minor": 4
}
