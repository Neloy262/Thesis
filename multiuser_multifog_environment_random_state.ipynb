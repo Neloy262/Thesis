{
  "nbformat": 4,
  "nbformat_minor": 0,
  "metadata": {
    "kernelspec": {
      "display_name": "Python 3",
      "language": "python",
      "name": "python3"
    },
    "language_info": {
      "codemirror_mode": {
        "name": "ipython",
        "version": 3
      },
      "file_extension": ".py",
      "mimetype": "text/x-python",
      "name": "python",
      "nbconvert_exporter": "python",
      "pygments_lexer": "ipython3",
      "version": "3.7.6"
    },
    "colab": {
      "name": "multiuser_multifog_environment-random.ipynb",
      "provenance": []
    }
  },
  "cells": [
    {
      "cell_type": "code",
      "metadata": {
        "id": "APWVcuZ-87s3",
        "colab_type": "code",
        "colab": {
          "base_uri": "https://localhost:8080/",
          "height": 84
        },
        "outputId": "13b44cc6-5c36-41c8-c9c8-882545796816"
      },
      "source": [
        "pip install simpy"
      ],
      "execution_count": 2,
      "outputs": [
        {
          "output_type": "stream",
          "text": [
            "Collecting simpy\n",
            "  Downloading https://files.pythonhosted.org/packages/20/f9/874b0bab83406827db93292a5bbe5acb5c18e3cea665b2f6e053292cb687/simpy-4.0.1-py2.py3-none-any.whl\n",
            "Installing collected packages: simpy\n",
            "Successfully installed simpy-4.0.1\n"
          ],
          "name": "stdout"
        }
      ]
    },
    {
      "cell_type": "code",
      "metadata": {
        "id": "tn68HIOf7oPB",
        "colab_type": "code",
        "colab": {}
      },
      "source": [
        "import numpy as np   #importing libraries\n",
        "import simpy \n",
        "import queue\n",
        "import random\n",
        "import uuid \n",
        "import random as rd\n",
        "import matplotlib \n",
        "from matplotlib import pyplot as plt"
      ],
      "execution_count": 234,
      "outputs": []
    },
    {
      "cell_type": "code",
      "metadata": {
        "id": "KDfBlG7A7oPO",
        "colab_type": "code",
        "colab": {}
      },
      "source": [
        "global SZ,CP,RM,L\n",
        "SZ=[]\n",
        "CP=[]\n",
        "RM=[]\n",
        "N=5\n",
        "k=10\n",
        "Lambda = 10\n",
        "mu = 1.25\n",
        "#t = 0   #system clock\n",
        "t1=0\n",
        "t2=0\n",
        "t_lambda = 0 #poisson random variable used to generate next service time\n",
        "t_mu = 0  #poisson random variable used to generate next departure time\n",
        "t_a=0\n",
        "wait=0\n",
        "R=1000\n",
        "transmission_time=0\n",
        "l=\"0\"\n",
        "P_transmission=500\n",
        "P_idle=100\n",
        "state=[]\n",
        "alpha = 0.1\n",
        "gamma = 0.95\n",
        "episodes = 10\n",
        "SHOW_EVERY = 100\n",
        "STATS_EVERY=100\n",
        "observation_space_discretesize = [20, 20]\n",
        "Q_dict=dict()\n",
        "L=[]"
      ],
      "execution_count": 235,
      "outputs": []
    },
    {
      "cell_type": "code",
      "metadata": {
        "id": "_j7hrzwsMSFt",
        "colab_type": "code",
        "colab": {}
      },
      "source": [
        ""
      ],
      "execution_count": 235,
      "outputs": []
    },
    {
      "cell_type": "code",
      "metadata": {
        "id": "WKJA-7ykMmgP",
        "colab_type": "code",
        "colab": {}
      },
      "source": [
        ""
      ],
      "execution_count": 235,
      "outputs": []
    },
    {
      "cell_type": "code",
      "metadata": {
        "id": "ljUb0TLy7oPZ",
        "colab_type": "code",
        "colab": {}
      },
      "source": [
        "class Packet(object):\n",
        "    def __init__(self, time, mobileID, seeed):\n",
        "        \n",
        "        self.time=time                                                \n",
        "        self.id=uuid.uuid1().int\n",
        "        self.mobileID=mobileID   \n",
        "        self.size=random.randint(200,400) #seed 1 op 2, seed 2 op \n",
        "        SZ.append(round(self.size,2))\n",
        "        #print(seeed)\n",
        "        #random.seed(seeed)\n",
        "        self.cpu=random.randint(20,90) #seed 1 op 2, seed 2 op \n",
        "        CP.append(round(self.cpu,2))\n",
        "        #random.seed(seeed)\n",
        "        self.ram=random.randint(1, 32) #seed 1 op 3, seed 2 op 1, seed 3 op 4\n",
        "        RM.append(round(self.ram,2))\n",
        "\n",
        "class mobile(object): #mobile class with an ID              \n",
        "    def __init__(self, ID):\n",
        "        self.ID=ID\n",
        "        self.pot=int(1)\n",
        "        \n",
        "    #generates packets and sends via out_pipe\n",
        "    def packet_generator(self, numPackets, env, out_pipe, task_id,send): \n",
        "        \n",
        "        yield env.timeout(send)\n",
        "        #print(\"sending task {} of mobile {} at time {}\".format(task_id, self.ID, env.now))\n",
        "        p=Packet(env.now, self.ID, self.pot)\n",
        "        self.pot+=1\n",
        "        if(self.pot==4):\n",
        "                self.pot=1\n",
        "        yield out_pipe.put(p)\n",
        "        item = yield out_pipe.get()\n",
        "\n"
      ],
      "execution_count": 236,
      "outputs": []
    },
    {
      "cell_type": "code",
      "metadata": {
        "id": "P0npVMr87oPk",
        "colab_type": "code",
        "colab": {}
      },
      "source": [
        " def reward_generator(T): \n",
        "    Tsla=2.5 \n",
        "    Nsla=3\n",
        "    Gsla=3  \n",
        "    Cost_sla=50\n",
        "    Cg=0\n",
        "    Ct=0\n",
        "    Cn=0\n",
        "    Cost_n=0\n",
        "    \n",
        "    #if (G<Gsla):\n",
        "        #Cg=-5*(Gsla/G)\n",
        "    if (T>Tsla):\n",
        "        Ct = -5 * (T/Tsla)\n",
        "    #if (N>Nsla):\n",
        "        #Cn=-5*(N/Nsla)\n",
        "    #if (cost>Cost_sla):\n",
        "        #Cost_n=-5*(cost/Cost_sla)\n",
        "    \n",
        "    Reward = (Tsla/T) + Ct #Reward Function\n",
        "    return Reward"
      ],
      "execution_count": 237,
      "outputs": []
    },
    {
      "cell_type": "code",
      "metadata": {
        "id": "HJgr1cai7oPr",
        "colab_type": "code",
        "colab": {}
      },
      "source": [
        "class Fog(object):      \n",
        "    def __init__(self, ID):\n",
        "        self.ID=ID\n",
        "        self.Number_queue=0\n",
        "        self.lost=0\n",
        "        self.response_time=0\n",
        "        self.server_count=0\n",
        "        self.wait=0\n",
        "        self.taskinqueue=0\n",
        "        self.neighbour1=None\n",
        "        self.service_time=[]\n",
        "        self.response_time_list=[]\n",
        "        self.Serverqueue=[]\n",
        "        self.total_serverqueue=[]\n",
        "        self.waitlist=[]\n",
        "        self.energy_offloading=[]\n",
        "        self.reward_list=[]\n",
        "    \n",
        "\n",
        "    def Neighbour(self,neighbour):\n",
        "        self.neighbour1=neighbour\n",
        "\n",
        "\n",
        "    def FOG(self, env, server, in_pipe,mobile):\n",
        "        \n",
        "         msg = yield in_pipe.get()\n",
        "         state.append([len(self.Serverqueue),len(self.neighbour1.Serverqueue),msg.mobileID,msg.id])\n",
        "         transmission_time = (msg.size/R)\n",
        "         #print(\"transmits task {} to need time {}\".format(msg.id,transmission_time,self.ID))\n",
        "         yield env.timeout(transmission_time)\n",
        "         a=env.now\n",
        "         #print(\"Arrived task {} at time {} at FOG {}\".format(msg.id,a,self.ID))\n",
        "         #print(\"server\",self.server_count)\n",
        "         if self.server_count==3:\n",
        "            if len(self.Serverqueue)<k:\n",
        "               self.Serverqueue.append(msg)\n",
        "               self.taskinqueue=len(self.Serverqueue)\n",
        "               #print(\"queue te ase \",len(self.Serverqueue))\n",
        "               #print(\"task ase queue te ase \",taskinqueue)\n",
        "               self.Number_queue = self.Number_queue + 1\n",
        "               #self.server_count=0\n",
        "            else:\n",
        "                self.lost=self.lost+1 \n",
        "                return  \n",
        "                 \n",
        "         u=rd.random()\n",
        "         t_mu=-np.log(u)/mu\n",
        "         self.service_time.append(t_mu)\n",
        "         #print(\"service time\",t_mu)\n",
        "         E = (P_transmission * transmission_time) + (P_idle * t_mu)\n",
        "         self.energy_offloading.append(E)\n",
        "         \n",
        "         #print(\"present a queue te ase \",len(self.Serverqueue))\n",
        "         #print(\"task ase queue te ase \",self.taskinqueue)\n",
        "         with server.request() as req:\n",
        "             yield req\n",
        "             s=env.now\n",
        "             self.wait=s-a\n",
        "             if len(self.Serverqueue)>0:\n",
        "                 self.Serverqueue.pop(0)\n",
        "             #self.total_serverqueue.append(len(self.Serverqueue))\n",
        "             #print(\"queue\",len(self.Serverqueue))\n",
        "             #print(\"wait\",self.wait)\n",
        "             #print(\"Starting service task {} at time {} at FOG {}\".format(msg.id,s,self.ID))\n",
        "             #print(\"Waiting time of task {} at time {} at FOG {}\".format(msg.id,self.wait,self.ID))\n",
        "             self.waitlist.append(self.wait)\n",
        "             self.response_time=self.wait+t_mu\n",
        "             self.response_time_list.append(self.response_time)\n",
        "             \n",
        "             #if self.wait>0:\n",
        "                #print(\"queue\",len(self.Serverqueue))\n",
        "              #  if len(self.Serverqueue)<10:\n",
        "               #     self.Serverqueue.append(msg)\n",
        "                #    self.Number_queue = self.Number_queue + 1\n",
        "                 #   self.total_serverqueue.append(len(self.Serverqueue))\n",
        "                  #  yield env.timeout(t_mu)\n",
        "                   # print(\"Finish service task {} at time {} at FOG {}\".format(msg.id,env.now,self.ID))\n",
        "                    #if len(self.Serverqueue)>0:\n",
        "                     #   self.Serverqueue.pop(0)\n",
        "                #else:\n",
        "                 #   self.lost=self.lost+1 \n",
        "                  #  return \n",
        "             self.server_count=self.server_count+1\n",
        "             yield env.timeout(t_mu)\n",
        "             #print(\"Finish service task {} at time {} at FOG {}\".format(msg.id,env.now,self.ID))\n",
        "             self.server_count=self.server_count-1   \n",
        "            \n",
        "                \n",
        "             r=reward_generator(self.response_time)\n",
        "             self.reward_list.append(r)\n",
        "             new_state=[len(self.Serverqueue),len(self.neighbour1.Serverqueue)]\n",
        "             for i in state:\n",
        "               if i[3] == msg.id:\n",
        "                  # global L\n",
        "                  L.append([i,r,new_state])\n",
        "                #  print(len(L))\n",
        "                #  L.append([i,r,new_state])\n",
        "                #  print([i,r,new_state])\n",
        "                  break\n",
        "\n",
        "             return self.taskinqueue"
      ],
      "execution_count": 238,
      "outputs": []
    },
    {
      "cell_type": "code",
      "metadata": {
        "id": "S1WUcsGL7oPx",
        "colab_type": "code",
        "colab": {
          "base_uri": "https://localhost:8080/",
          "height": 447
        },
        "outputId": "4387b59f-c1a9-461c-b6e0-e0d304e32a55"
      },
      "source": [
        "env1 = simpy.Environment()    \n",
        "server1 = simpy.Resource(env1, capacity=3)\n",
        "server2 = simpy.Resource(env1, capacity=3)\n",
        "\n",
        "pipe1 = simpy.Store(env1)\n",
        "pipe2 = simpy.Store(env1)\n",
        "pipe3 = simpy.Store(env1)\n",
        "\n",
        "ms1=mobile(1)\n",
        "ms2=mobile(2)\n",
        "ms3=mobile(3)\n",
        "\n",
        "fog1 = Fog(1)\n",
        "fog2 = Fog(2)\n",
        "fog1_count=0\n",
        "fog2_count=0\n",
        "fog1.Neighbour(fog2)\n",
        "fog2.Neighbour(fog1)\n",
        "for i in range(N):\n",
        "    \n",
        "    choose=random.randint(1,2)\n",
        "\n",
        "    if(choose==1):\n",
        "        fog1_count=fog1_count+1\n",
        "        u=rd.random()\n",
        "        t_lambda=-np.log(u)/Lambda\n",
        "        t_a=t1+t_lambda\n",
        "        t1=t_a\n",
        "\n",
        "        env1.process(ms1.packet_generator(1, env1, pipe1, i,t_a))\n",
        "        env1.process(fog1.FOG(env1, server1, pipe1,ms1.ID))\n",
        "    \n",
        "        fog1_count=fog1_count+1\n",
        "        u=rd.random()\n",
        "        t_lambda=-np.log(u)/Lambda\n",
        "        t_a=t2+t_lambda\n",
        "        t2=t_a\n",
        "\n",
        "        env1.process(ms2.packet_generator(1, env1, pipe2, i,t_a))\n",
        "        env1.process(fog1.FOG(env1, server1, pipe2,ms2.ID))\n",
        "        \n",
        "    if(choose==2):\n",
        "         fog2_count=fog2_count+1\n",
        "         u=rd.random()\n",
        "         t_lambda=-np.log(u)/Lambda\n",
        "         t_a=t1+t_lambda\n",
        "         t1=t_a\n",
        "\n",
        "         env1.process(ms1.packet_generator(1, env1, pipe1, i,t_a))\n",
        "         env1.process(fog2.FOG(env1, server2, pipe1,ms1.ID))\n",
        "        \n",
        "         fog2_count=fog2_count+1\n",
        "         u=rd.random()\n",
        "         t_lambda=-np.log(u)/Lambda\n",
        "         t_a=t2+t_lambda\n",
        "         t2=t_a\n",
        "\n",
        "         env1.process(ms2.packet_generator(1, env1, pipe2, i,t_a))\n",
        "         env1.process(fog2.FOG(env1, server2, pipe2,ms2.ID))\n",
        "         \n",
        "    \n",
        "env1.run()\n",
        "print(\"State Action Reward NextState\")\n",
        "for i in L:\n",
        "  # i[0].pop(3)\n",
        "  print(i)\n",
        "L.clear()   \n",
        "#i=0\n",
        "#while (i<N):\n",
        " #   print(\"{}     {}     {}\".format(i+1,fog1.response_time_list[i],fog1.reward_list[i]))\n",
        " #   i+=1\n",
        "\n",
        "print(fog1.lost,fog2.lost)\n",
        "print(fog1_count,fog2_count)\n",
        "#print(len(fog1.total_serverqueue))\n",
        "#Na=N-fog.lost\n",
        "#print(\"No    serverqueue       wait_time\")\n",
        "#i=0\n",
        "#c=0\n",
        "#while (i<fog2_count):\n",
        "   # if(fog2.waitlist[i]>0):\n",
        "  #      c+=1\n",
        " #   i+=1\n",
        "#print(\"total queue te ase\",fog2.Number_queue)\n",
        "#print(\"total wait list e ase\",c)\n",
        "#print(\"FOG-1 MAXIMUM REAWARD:\", max(fog1.reward_list))\n",
        "#print(\"FOG-1 total number of task in queue\",fog1.Number_queue)\n",
        "avgwaittime=sum(fog1.waitlist)/fog1_count\n",
        "print(\"FOG-1 Average queueing time:\", avgwaittime)\n",
        "avgservicetime=sum(fog1.service_time)/fog1_count\n",
        "print(\"FOG-1 Average service time:\", avgservicetime)\n",
        "avgsystemtime=sum(fog1.response_time_list)/fog1_count\n",
        "print(\"FOG-1 Average response time:\", avgsystemtime)\n",
        "avgenergy=sum(fog1.energy_offloading)/fog1_count\n",
        "print(\"FOG-1 Average Energy consumption:\", avgenergy)\n",
        "\n",
        "#print(\"No    response_time       reward\")\n",
        "#i=0\n",
        "#while (i<N):\n",
        " #   print(\"{}     {}     {}\".format(i+1,fog2.response_time_list[i],fog2.reward_list[i]))\n",
        "  #  i+=1\n",
        "#print(\"FOG-2 MAXIMUM REAWARD:\", max(fog2.reward_list))\n",
        "#print(\"FOG-2 total number of task in queue\",fog2.Number_queue)\n",
        "avgwaittime=sum(fog2.waitlist)/fog2_count\n",
        "print(\"FOG-2 Average queueing time:\", avgwaittime)\n",
        "avgservicetime=sum(fog2.service_time)/fog2_count\n",
        "print(\"FOG-2 Average service time:\", avgservicetime)\n",
        "avgsystemtime=sum(fog2.response_time_list)/fog2_count\n",
        "print(\"FOG-2 Average response time:\", avgsystemtime)\n",
        "avgenergy=sum(fog2.energy_offloading)/fog2_count\n",
        "print(\"FOG-2 Average Energy consumption:\", avgenergy)\n"
      ],
      "execution_count": 239,
      "outputs": [
        {
          "output_type": "stream",
          "text": [
            "State Action Reward NextState\n",
            "[[0, 0, 1, 130181481451618099564101753930633707522], 4.605296038588243, [0, 0]]\n",
            "[[0, 0, 1, 130181553549245987544648964055628513282], 4.184248601754116, [5, 0]]\n",
            "[[0, 0, 2, 130181628023718750953126301986941829122], 2.8412704082879303, [5, 0]]\n",
            "[[0, 0, 2, 130181592371045619534174384892164177922], -4.458304503281109, [4, 0]]\n",
            "[[0, 0, 1, 130181803117957907477312383719072071682], 2.479108665104251, [3, 0]]\n",
            "[[0, 0, 1, 130181896607189674309230744100933468162], 2.490813661465909, [2, 0]]\n",
            "[[0, 0, 2, 130181660507265381801504715339961466882], 1.4928666216796362, [1, 0]]\n",
            "[[0, 0, 2, 130181768257566401201003842559733923842], -8.2788716731257, [0, 0]]\n",
            "[[0, 0, 1, 130181693783093637792526504628420608002], -8.2788716731257, [0, 0]]\n",
            "[[1, 0, 2, 130181957612874810292770691129775226882], -8.2788716731257, [0, 0]]\n",
            "0 0\n",
            "0 10\n"
          ],
          "name": "stdout"
        },
        {
          "output_type": "error",
          "ename": "ZeroDivisionError",
          "evalue": "ignored",
          "traceback": [
            "\u001b[0;31m---------------------------------------------------------------------------\u001b[0m",
            "\u001b[0;31mZeroDivisionError\u001b[0m                         Traceback (most recent call last)",
            "\u001b[0;32m<ipython-input-239-9cc2e19d37b2>\u001b[0m in \u001b[0;36m<module>\u001b[0;34m()\u001b[0m\n\u001b[1;32m     86\u001b[0m \u001b[0;31m#print(\"FOG-1 MAXIMUM REAWARD:\", max(fog1.reward_list))\u001b[0m\u001b[0;34m\u001b[0m\u001b[0;34m\u001b[0m\u001b[0;34m\u001b[0m\u001b[0m\n\u001b[1;32m     87\u001b[0m \u001b[0;31m#print(\"FOG-1 total number of task in queue\",fog1.Number_queue)\u001b[0m\u001b[0;34m\u001b[0m\u001b[0;34m\u001b[0m\u001b[0;34m\u001b[0m\u001b[0m\n\u001b[0;32m---> 88\u001b[0;31m \u001b[0mavgwaittime\u001b[0m\u001b[0;34m=\u001b[0m\u001b[0msum\u001b[0m\u001b[0;34m(\u001b[0m\u001b[0mfog1\u001b[0m\u001b[0;34m.\u001b[0m\u001b[0mwaitlist\u001b[0m\u001b[0;34m)\u001b[0m\u001b[0;34m/\u001b[0m\u001b[0mfog1_count\u001b[0m\u001b[0;34m\u001b[0m\u001b[0;34m\u001b[0m\u001b[0m\n\u001b[0m\u001b[1;32m     89\u001b[0m \u001b[0mprint\u001b[0m\u001b[0;34m(\u001b[0m\u001b[0;34m\"FOG-1 Average queueing time:\"\u001b[0m\u001b[0;34m,\u001b[0m \u001b[0mavgwaittime\u001b[0m\u001b[0;34m)\u001b[0m\u001b[0;34m\u001b[0m\u001b[0;34m\u001b[0m\u001b[0m\n\u001b[1;32m     90\u001b[0m \u001b[0mavgservicetime\u001b[0m\u001b[0;34m=\u001b[0m\u001b[0msum\u001b[0m\u001b[0;34m(\u001b[0m\u001b[0mfog1\u001b[0m\u001b[0;34m.\u001b[0m\u001b[0mservice_time\u001b[0m\u001b[0;34m)\u001b[0m\u001b[0;34m/\u001b[0m\u001b[0mfog1_count\u001b[0m\u001b[0;34m\u001b[0m\u001b[0;34m\u001b[0m\u001b[0m\n",
            "\u001b[0;31mZeroDivisionError\u001b[0m: division by zero"
          ]
        }
      ]
    },
    {
      "cell_type": "code",
      "metadata": {
        "id": "MUEpn4cm7oP6",
        "colab_type": "code",
        "colab": {}
      },
      "source": [
        ""
      ],
      "execution_count": 222,
      "outputs": []
    },
    {
      "cell_type": "code",
      "metadata": {
        "id": "Rbz3gJ_a7oQD",
        "colab_type": "code",
        "colab": {}
      },
      "source": [
        "\n"
      ],
      "execution_count": null,
      "outputs": []
    },
    {
      "cell_type": "code",
      "metadata": {
        "id": "nV5f3UwK7oQI",
        "colab_type": "code",
        "colab": {}
      },
      "source": [
        ""
      ],
      "execution_count": null,
      "outputs": []
    },
    {
      "cell_type": "code",
      "metadata": {
        "id": "bqBSiykD7oQN",
        "colab_type": "code",
        "colab": {}
      },
      "source": [
        ""
      ],
      "execution_count": null,
      "outputs": []
    }
  ]
}