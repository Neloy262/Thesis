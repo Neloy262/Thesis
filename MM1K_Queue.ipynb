{
 "cells": [
  {
   "cell_type": "code",
   "execution_count": 25,
   "metadata": {},
   "outputs": [],
   "source": [
    "import matplotlib as mp\n",
    "import numpy as np\n",
    "import random as rd"
   ]
  },
  {
   "cell_type": "markdown",
   "metadata": {},
   "source": [
    "# Variable Initialization"
   ]
  },
  {
   "cell_type": "code",
   "execution_count": 26,
   "metadata": {},
   "outputs": [],
   "source": [
    "N = 1000000 #Number of packets to be serviced\n",
    "K=10 #Queue length\n",
    "lost=0 #Lost packets\n",
    "Lambda = 1.0  \n",
    "mu = 1.25\n",
    "infty = 999*N*mu \n",
    "n = 0\n",
    "n_a = 0 #total number of arrivals\n",
    "n_d = 0 #total number of departure\n",
    "t = 0   #system clock\n",
    "t_d = infty #next service time\n",
    "t_lambda = 0 #poisson random variable used to generate next service time\n",
    "t_mu = 0  #poisson random variable used to generate next departure time\n",
    "tot_mu = 0 #total of departure times\n",
    "TA=[] #list to store packet arrival time\n",
    "TA.append(-123) #Not using index 0 of list\n",
    "response = 0 #Total time spent in system by all packet\n",
    "wait = 0 #Average wait time\n",
    "u=rd.random()\n",
    "t_a=-np.log(u)/Lambda #generating random variable\n",
    "tot_lambda = t_a #total of arrival times"
   ]
  },
  {
   "cell_type": "code",
   "execution_count": 27,
   "metadata": {},
   "outputs": [],
   "source": [
    "while n_d<N:\n",
    "    if t_a<t_d:\n",
    "        if n==K:\n",
    "            lost+=1\n",
    "            u=rd.random()\n",
    "            t_lambda=-np.log(u)/Lambda\n",
    "            t_a=t+t_lambda\n",
    "            tot_lambda =tot_lambda+t_lambda\n",
    "            continue\n",
    "            \n",
    "        t=t_a\n",
    "        n=n+1\n",
    "        n_a=n_a+1\n",
    "        if n_a<=N:\n",
    "            TA.append(t)\n",
    "        u=rd.random()\n",
    "        t_lambda=-np.log(u)/Lambda\n",
    "        t_a=t+t_lambda\n",
    "        tot_lambda =tot_lambda+t_lambda\n",
    "        if n==1:\n",
    "            u=rd.random()\n",
    "            t_mu=-np.log(u)/mu\n",
    "            t_d = t+t_mu\n",
    "            tot_mu =tot_mu+t_mu\n",
    "    else:\n",
    "        t = t_d\n",
    "        n=n-1\n",
    "        n_d=n_d+1\n",
    "        response=response+t-TA[n_d] #t-TA[n_d] is time spent in the system by packet TA[n_d].Response hold the total of all packets\n",
    "        if n==0:\n",
    "            t_d=infty\n",
    "        else:\n",
    "            u=rd.random()\n",
    "            t_mu=-np.log(u)/mu\n",
    "            t_d = t+t_mu\n",
    "            tot_mu =tot_mu+t_mu"
   ]
  },
  {
   "cell_type": "code",
   "execution_count": 28,
   "metadata": {},
   "outputs": [
    {
     "name": "stdout",
     "output_type": "stream",
     "text": [
      "Mean interarrival time:  1.1097798357468247\n",
      "Mean queueing time:  2.2235590798507623\n",
      "Mean service time:  0.7996191846654505\n",
      "Packet lost: 108115\n"
     ]
    }
   ],
   "source": [
    "wait = (response-tot_mu)/N\n",
    "print(\"Mean interarrival time: \", tot_lambda/n_a)\n",
    "print(\"Mean queueing time: \" , wait)\n",
    "print(\"Mean service time: \" , tot_mu/N)\n",
    "print(\"Packets lost:\",lost)\n"
   ]
  },
  {
   "cell_type": "code",
   "execution_count": null,
   "metadata": {},
   "outputs": [],
   "source": []
  },
  {
   "cell_type": "code",
   "execution_count": null,
   "metadata": {},
   "outputs": [],
   "source": []
  }
 ],
 "metadata": {
  "kernelspec": {
   "display_name": "Python 3",
   "language": "python",
   "name": "python3"
  },
  "language_info": {
   "codemirror_mode": {
    "name": "ipython",
    "version": 3
   },
   "file_extension": ".py",
   "mimetype": "text/x-python",
   "name": "python",
   "nbconvert_exporter": "python",
   "pygments_lexer": "ipython3",
   "version": "3.7.7"
  }
 },
 "nbformat": 4,
 "nbformat_minor": 4
}
